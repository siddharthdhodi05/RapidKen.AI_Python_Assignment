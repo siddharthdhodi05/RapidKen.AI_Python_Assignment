{
  "nbformat": 4,
  "nbformat_minor": 0,
  "metadata": {
    "colab": {
      "provenance": []
    },
    "kernelspec": {
      "name": "python3",
      "display_name": "Python 3"
    },
    "language_info": {
      "name": "python"
    }
  },
  "cells": [
    {
      "cell_type": "code",
      "source": [
        "import re\n",
        "import os\n",
        "import smtplib\n",
        "from email.mime.text import MIMEText\n",
        "from email.mime.multipart import MIMEMultipart\n",
        "from email.mime.base import MIMEBase\n",
        "from email import encoders\n",
        "from selenium import webdriver\n",
        "from selenium.webdriver.common.by import By\n",
        "from selenium.webdriver.chrome.service import Service\n",
        "from selenium.webdriver.chrome.options import Options\n",
        "from selenium.webdriver.support.ui import WebDriverWait\n",
        "from selenium.webdriver.support import expected_conditions as EC\n"
      ],
      "metadata": {
        "id": "DYeZoXcSixlP"
      },
      "execution_count": 38,
      "outputs": []
    },
    {
      "cell_type": "code",
      "source": [
        "chrome_options = Options()\n",
        "chrome_options.add_argument('--headless')\n",
        "chrome_options.add_argument('--no-sandbox')\n",
        "chrome_options.add_argument('--disable-dev-shm-usage')"
      ],
      "metadata": {
        "id": "jYU92MzQiycK"
      },
      "execution_count": 39,
      "outputs": []
    },
    {
      "cell_type": "code",
      "source": [
        "driver = webdriver.Chrome(options=chrome_options)"
      ],
      "metadata": {
        "id": "e4IidUTui1re"
      },
      "execution_count": 40,
      "outputs": []
    },
    {
      "cell_type": "code",
      "source": [
        "url = \"https://youtu.be/iTmlw3vQPSs\""
      ],
      "metadata": {
        "id": "t4PoVMnki4VD"
      },
      "execution_count": 41,
      "outputs": []
    },
    {
      "cell_type": "code",
      "source": [
        "driver.get(url)"
      ],
      "metadata": {
        "id": "zTPsEZHRi8Rj"
      },
      "execution_count": 42,
      "outputs": []
    },
    {
      "cell_type": "code",
      "source": [
        "try:\n",
        "    expand_button = WebDriverWait(driver, 10).until(\n",
        "        EC.element_to_be_clickable((By.CSS_SELECTOR, '#description-inline-expander'))\n",
        "    )\n",
        "    expand_button.click()\n",
        "\n",
        "    description_element = WebDriverWait(driver, 10).until(\n",
        "        EC.presence_of_element_located((By.CSS_SELECTOR, '#description-inline-expander[is-expanded]'))\n",
        "    )\n",
        "    description_text = description_element.text\n",
        "except Exception as e:\n",
        "    print(\"Error extracting description:\", e)\n",
        "    description_text = \"\""
      ],
      "metadata": {
        "id": "VNCQhYUhi_Si"
      },
      "execution_count": 43,
      "outputs": []
    },
    {
      "cell_type": "code",
      "source": [
        "driver.quit()"
      ],
      "metadata": {
        "id": "Blgh4Y3MjI5O"
      },
      "execution_count": 44,
      "outputs": []
    },
    {
      "cell_type": "code",
      "source": [
        "timestamp_list = re.findall(r'\\b\\d{1,2}:\\d{2}\\b', description_text)"
      ],
      "metadata": {
        "id": "IiAXoZotjL88"
      },
      "execution_count": 45,
      "outputs": []
    },
    {
      "cell_type": "code",
      "source": [
        "output_filename = \"timestamps.txt\"\n",
        "with open(output_filename, \"w\") as file:\n",
        "    file.write(f\"URL: {url}\\n\")\n",
        "    file.write(\"Timestamps:\\n\")\n",
        "    file.write(\"\\n\".join(timestamp_list))\n",
        "\n",
        "print(f\"Output saved to {output_filename}\")"
      ],
      "metadata": {
        "colab": {
          "base_uri": "https://localhost:8080/"
        },
        "id": "yQUDoN9HjRIg",
        "outputId": "da726948-dfc6-4145-b8a0-ddb45adccfc0"
      },
      "execution_count": 46,
      "outputs": [
        {
          "output_type": "stream",
          "name": "stdout",
          "text": [
            "Output saved to timestamps.txt\n"
          ]
        }
      ]
    },
    {
      "cell_type": "code",
      "source": [
        "print(timestamp_list)"
      ],
      "metadata": {
        "colab": {
          "base_uri": "https://localhost:8080/"
        },
        "id": "ruizIImXjW6D",
        "outputId": "73426970-854b-4c5e-b474-9b690283c5b5"
      },
      "execution_count": 47,
      "outputs": [
        {
          "output_type": "stream",
          "name": "stdout",
          "text": [
            "['00:01', '00:03']\n"
          ]
        }
      ]
    },
    {
      "cell_type": "code",
      "source": [
        "print(description_text)"
      ],
      "metadata": {
        "colab": {
          "base_uri": "https://localhost:8080/"
        },
        "id": "Ev-TtaYEjkhY",
        "outputId": "63ac364d-e94c-4508-eb60-d9baa1600311"
      },
      "execution_count": 48,
      "outputs": [
        {
          "output_type": "stream",
          "name": "stdout",
          "text": [
            "This is description text having some timestamps.\n",
            "\n",
            "\n",
            "00:01 Hello\n",
            "00:03 World\n",
            "RK-P\n",
            "1 subscriber\n",
            "Videos\n",
            "About\n",
            "Show less\n"
          ]
        }
      ]
    },
    {
      "cell_type": "code",
      "source": [],
      "metadata": {
        "id": "SZwzDm5vj2hm"
      },
      "execution_count": null,
      "outputs": []
    }
  ]
}